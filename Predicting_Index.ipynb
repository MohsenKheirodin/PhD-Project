{
 "cells": [
  {
   "cell_type": "code",
   "execution_count": null,
   "id": "1df4ba81-d88c-400d-b88b-7436a2e94075",
   "metadata": {},
   "outputs": [],
   "source": [
    "import import_ipynb\n",
    "import Preparing_Data\n",
    "import Learning_Models\n",
    "\n",
    "%run ./Preparing_Data.ipynb\n",
    "%run ./Learning_Models.ipynb"
   ]
  },
  {
   "cell_type": "code",
   "execution_count": null,
   "id": "b7c57e8f-8747-4719-8f7d-b89eb2704e63",
   "metadata": {},
   "outputs": [],
   "source": [
    "# Preparing Data for Index Prediction\n",
    "\n",
    "# Get the Index Info\n",
    "\n",
    "df_index_info = {'Regime':True, 'Value':False, 'Fundamental':False, 'Oil':False, 'Risk_free':False, 'Dollar':True}\n",
    "df_index, first_date, all_days = Create_Index(df_index_info)\n",
    "\n",
    "# preprocessing Data\n",
    "lags_return = [1,3,5,10,20]\n",
    "df_index, columns = calculating_Macro_features(df_index = df_index, df_index_info = df_index_info, lags_return = lags_return)\n",
    "list_info = df_index.columns.tolist()\n",
    "list_info = [item for item in list_info if item not in columns['OUTPUT']]\n",
    "\n",
    "train_test_split = int(np.floor(df_index.shape[0] * 0.8))\n",
    "df_index_train = df_index.iloc[0:train_test_split,:]\n",
    "df_index_test  = df_index.iloc[train_test_split:,:]\n",
    "\n",
    "y_train_index = df_index_train[columns['OUTPUT']]\n",
    "y_test_index  = df_index_test[columns['OUTPUT']]\n",
    "\n",
    "X_train_index = df_index_train[list_info]\n",
    "X_test_index  = df_index_test[list_info]\n",
    "\n",
    "predictors = {'Trend':True, 'Value':True, 'Exchange':True, 'risk_free':False, 'Oil':True,'fundamental_value':False, 'fundamental_ratios':False, 'regime':True}\n",
    "X_train_index, X_test_index = Select_Features_Categories_index(X_train = X_train_index, X_test = X_test_index, feat_dict = predictors, columns = columns)\n"
   ]
  },
  {
   "cell_type": "code",
   "execution_count": null,
   "id": "423c61e6-65dc-40d9-9adb-7e5a5a74d76e",
   "metadata": {},
   "outputs": [],
   "source": [
    "y_pred_index_binary, y_proba_index_binary, _, importance_index_binary, index_model_binary = XGB(X_train_index, X_test_index, y_train_index['binary_3_days'], y_test_index['binary_3_days'], mode = 'binary', is_binary = True)\n",
    "y_pred_index_multi,  y_proba_index_multi, _,  importance_index_multi,  index_model_multi  = XGB(X_train_index, X_test_index, y_train_index['class_3_days'] - 1, y_test_index['class_3_days'] - 1, mode = 'multi', is_binary = False)"
   ]
  },
  {
   "cell_type": "code",
   "execution_count": null,
   "id": "243b7078-2911-4d70-a499-0463d02eabe8",
   "metadata": {},
   "outputs": [],
   "source": [
    "#\n",
    "# warnings.filterwarnings('ignore')\n",
    "# for i in range(100,df_index.shape[0]):\n",
    "#     if i == 100:\n",
    "#         df_index = regime_detection(price = df_index, col = 'index_vwap') \n",
    "#     else:\n",
    "#         print(i)\n",
    "#         df = df_index[:i] \n",
    "#         df = regime_detection(price = df, col = 'index_vwap')\n",
    "#         df_index['regime'].iloc[i] = df['regime'].iloc[-1]\n",
    "# warnings.simplefilter('default')"
   ]
  },
  {
   "cell_type": "code",
   "execution_count": null,
   "id": "3a61962f-08f5-4b3f-ae27-b3e4f8c9f873",
   "metadata": {},
   "outputs": [],
   "source": [
    "# Analyze the output\n",
    "\n",
    "frame = 'Binary'\n",
    "\n",
    "if frame == 'Mulit':\n",
    "    Class = ['predicted']\n",
    "    prediction = pd.DataFrame(y_pred_index_multi, columns=Class, index=y_test_index.index)\n",
    "    prediction['happened'] = y_test_index['class_3_days']\n",
    "    prediction['predicted'] = prediction['predicted'] + 1\n",
    "    prediction['error'] = np.abs(prediction['happened'] - prediction['predicted'])\n",
    "    prediction['return'] = y_test_index['ret_3_days']\n",
    "\n",
    "if frame == 'Binary':\n",
    "    Class = ['Class 1']\n",
    "    prediction = pd.DataFrame(y_proba_index_binary, columns=Class, index=y_test_index.index)\n",
    "    prediction['happened'] = y_test_index['class_3_days']\n",
    "    prediction['return'] = y_test_index['ret_3_days']\n",
    "    quantiles_by_date_Class1 = prediction['Class 1'].quantile([0, 0.25, 0.5, 0.75, 1])\n",
    "    prediction['predicted'] = 0\n",
    "    for i in range(4):\n",
    "        prediction.loc[(prediction['Class 1'] >= quantiles_by_date_Class1.iloc[i]) & (prediction['Class 1'] <= quantiles_by_date_Class1.iloc[i+1]), 'predicted'] = i+1\n",
    "    prediction['error'] = np.abs(prediction['happened'] - prediction['predicted'])\n"
   ]
  },
  {
   "cell_type": "code",
   "execution_count": null,
   "id": "3289dcc5-ef4b-4e52-b005-56fa5092a386",
   "metadata": {},
   "outputs": [],
   "source": [
    "# Print the Result\n",
    "\n",
    "print('')\n",
    "\n",
    "print('Average Absolute Error = ' + f\"{prediction['error'].mean():.3f}\")\n",
    "\n",
    "print('')\n",
    "\n",
    "print('return very_high is =   ' + f\"{prediction.loc[prediction['predicted'] == 4, 'return'].sum() * 100:.2f}\" + ' %')\n",
    "print('return high is =        ' + f\"{prediction.loc[prediction['predicted'] == 3, 'return'].sum() * 100:.2f}\" + ' %')\n",
    "print('return low is =         ' + f\"{prediction.loc[prediction['predicted'] == 2, 'return'].sum() * 100:.2f}\" + ' %')\n",
    "print('return very_low is =    ' + f\"{prediction.loc[prediction['predicted'] == 1, 'return'].sum() * 100:.2f}\" + ' %')\n",
    "\n",
    "a = [prediction.loc[prediction['predicted'] == 1, 'return'].sum() * 100, prediction.loc[prediction['predicted'] == 2, 'return'].sum() * 100, prediction.loc[prediction['predicted'] == 3, 'return'].sum() * 100,\n",
    "    prediction.loc[prediction['predicted'] == 4, 'return'].sum() * 100] \n",
    "\n",
    "plt.figure(figsize=(8, 5))\n",
    "plt.bar(range(len(a)), a, tick_label=range(1, len(a) + 1))\n",
    "plt.xlabel('Class')\n",
    "plt.ylabel('Average Daily Return %')\n",
    "# plt.title('Multi-Class Classification Result')\n",
    "plt.savefig('bar_chart.png')\n",
    "plt.show()\n",
    "plt.close()"
   ]
  },
  {
   "cell_type": "code",
   "execution_count": null,
   "id": "a52feb8f-9baf-497c-8cd2-89ba9c574a28",
   "metadata": {},
   "outputs": [],
   "source": [
    "# Confusion Matrix\n",
    "\n",
    "conf_matrix = confusion_matrix(prediction['happened'], prediction['predicted'], labels=[1, 2, 3, 4])\n",
    "conf_matrix_percentage = conf_matrix.astype('float') / conf_matrix.sum(axis=1)[:, np.newaxis] * 100\n",
    "\n",
    "# Plotting the confusion matrix with percentages\n",
    "plt.figure(figsize=(8, 6))\n",
    "sns.heatmap(conf_matrix_percentage, annot=True, fmt='.2f', cmap='Blues', xticklabels=[1, 2, 3, 4], yticklabels=[1, 2, 3, 4])\n",
    "plt.xlabel('Predicted Labels')\n",
    "plt.ylabel('True Labels')\n",
    "plt.title('Confusion Matrix (Percentages)')\n",
    "plt.savefig('confusionMatrix.png')\n",
    "plt.show()\n"
   ]
  }
 ],
 "metadata": {
  "kernelspec": {
   "display_name": "Python 3 (ipykernel)",
   "language": "python",
   "name": "python3"
  },
  "language_info": {
   "codemirror_mode": {
    "name": "ipython",
    "version": 3
   },
   "file_extension": ".py",
   "mimetype": "text/x-python",
   "name": "python",
   "nbconvert_exporter": "python",
   "pygments_lexer": "ipython3",
   "version": "3.11.6"
  }
 },
 "nbformat": 4,
 "nbformat_minor": 5
}
